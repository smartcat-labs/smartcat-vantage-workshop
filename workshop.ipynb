{
 "cells": [
  {
   "cell_type": "markdown",
   "metadata": {
    "editable": true,
    "slideshow": {
     "slide_type": ""
    },
    "tags": []
   },
   "source": [
    "![title.png](img/title.png)"
   ]
  },
  {
   "cell_type": "markdown",
   "metadata": {},
   "source": [
    "![line.png](img/line.png)"
   ]
  },
  {
   "cell_type": "markdown",
   "metadata": {},
   "source": [
    "![objectives.png](img/objectives.png)"
   ]
  },
  {
   "cell_type": "markdown",
   "metadata": {},
   "source": [
    "![line.png](img/line.png)"
   ]
  },
  {
   "cell_type": "markdown",
   "metadata": {},
   "source": [
    "![history.png](img/history.png)"
   ]
  },
  {
   "cell_type": "markdown",
   "metadata": {},
   "source": [
    "![line.png](img/line.png)"
   ]
  },
  {
   "cell_type": "markdown",
   "metadata": {},
   "source": [
    "![keyword_search_1](img/keyword_search_1.png)"
   ]
  },
  {
   "cell_type": "markdown",
   "metadata": {},
   "source": [
    "![line.png](img/line.png)"
   ]
  },
  {
   "cell_type": "markdown",
   "metadata": {},
   "source": [
    "![keyword_search_2.png](img/keyword_search_2.png)"
   ]
  },
  {
   "cell_type": "markdown",
   "metadata": {},
   "source": [
    "![line.png](img/line.png)"
   ]
  },
  {
   "cell_type": "markdown",
   "metadata": {},
   "source": [
    "![vector_embeddings.png](img/vector_embeddings.png)"
   ]
  },
  {
   "cell_type": "markdown",
   "metadata": {},
   "source": [
    "![line.png](img/line.png)"
   ]
  },
  {
   "cell_type": "markdown",
   "metadata": {},
   "source": [
    "![semantic_search.png](img/semantic_search.png)"
   ]
  },
  {
   "cell_type": "markdown",
   "metadata": {},
   "source": [
    "![line.png](img/line.png)"
   ]
  },
  {
   "cell_type": "markdown",
   "metadata": {},
   "source": [
    "![workshop_beginning.png](img/workshop_beginning.png)"
   ]
  },
  {
   "cell_type": "markdown",
   "metadata": {},
   "source": [
    "# Setup environment\n",
    "\n",
    "Install required libraries:"
   ]
  },
  {
   "cell_type": "code",
   "execution_count": null,
   "metadata": {},
   "outputs": [],
   "source": [
    "! pip install \\\n",
    "    pandas==2.2.2 \\\n",
    "    pyarrow==17.0.0 \\\n",
    "    vantage-sdk==0.9.3 \\\n",
    "    datasets==3.0.1"
   ]
  },
  {
   "cell_type": "markdown",
   "metadata": {},
   "source": [
    "Setup utility functions (just execute following cell):"
   ]
  },
  {
   "cell_type": "code",
   "execution_count": null,
   "metadata": {},
   "outputs": [],
   "source": [
    "import pandas as pd\n",
    "from IPython.display import display, HTML\n",
    "from typing import List\n",
    "from vantage_sdk.core.http.models.shopping_assistant_group_result import (\n",
    "    ShoppingAssistantGroupResult,\n",
    ")\n",
    "\n",
    "\n",
    "def display_row(df: pd.DataFrame, row_index: int) -> None:\n",
    "    row = df.iloc[row_index]\n",
    "    html_content = \"\"\"\n",
    "    <style>\n",
    "        .data-table {\n",
    "            width: 100%;\n",
    "            border-collapse: collapse;\n",
    "            margin: 20px 0;\n",
    "            font-family: Arial, sans-serif;\n",
    "        }\n",
    "        .data-table td {\n",
    "            padding: 8px 15px;\n",
    "            border: 1px solid #ddd;\n",
    "            vertical-align: top;\n",
    "        }\n",
    "        .data-table .field-name {\n",
    "            font-weight: bold;\n",
    "            width: 25%;\n",
    "        }\n",
    "    </style>\n",
    "    <table class='data-table'>\n",
    "    \"\"\"\n",
    "\n",
    "    for field, value in row.items():\n",
    "        html_content += f\"\"\"\n",
    "        <tr>\n",
    "            <td class='field-name'>{field}</td>\n",
    "            <td>{value}</td>\n",
    "        </tr>\n",
    "        \"\"\"\n",
    "\n",
    "    html_content += \"</table>\"\n",
    "    display(HTML(html_content))\n",
    "\n",
    "\n",
    "def display_query_results(df: pd.DataFrame, results: List[str]) -> None:\n",
    "    ids = [result.id for result in results]\n",
    "    df_filtered = df[df[\"id\"].isin(ids)].copy()\n",
    "    df_filtered[\"id\"] = pd.Categorical(df_filtered[\"id\"], categories=ids, ordered=True)\n",
    "    df_filtered = df_filtered.sort_values(\"id\")\n",
    "\n",
    "    html_content = \"\"\"\n",
    "    <style>\n",
    "        .product-grid {\n",
    "            display: flex;\n",
    "            flex-wrap: wrap;\n",
    "            justify-content: flex-start;\n",
    "            gap: 15px;\n",
    "        }\n",
    "        .product-container {\n",
    "            border: 1px solid #ddd;\n",
    "            padding: 10px;\n",
    "            border-radius: 8px;\n",
    "            background-color: #f9f9f9;\n",
    "            box-shadow: 2px 2px 8px rgba(0, 0, 0, 0.1);\n",
    "            width: 22%;\n",
    "            box-sizing: border-box;\n",
    "            overflow-y: auto;\n",
    "            max-height: 400px;\n",
    "        }\n",
    "        .product-image {\n",
    "            max-height: 250px;\n",
    "            border-radius: 6px;\n",
    "            margin-bottom: 10px;\n",
    "            width: 100%;\n",
    "            object-fit: contain;\n",
    "        }\n",
    "        .product-details {\n",
    "            font-family: Arial, sans-serif;\n",
    "            font-size: 12px;\n",
    "            line-height: 1.4;\n",
    "            color: #333;\n",
    "            text-align: left;\n",
    "        }\n",
    "        .product-details strong {\n",
    "            font-size: 14px;\n",
    "            color: #0073e6;\n",
    "        }\n",
    "        @media (max-width: 768px) {\n",
    "            .product-container {\n",
    "                width: 48%;\n",
    "            }\n",
    "        }\n",
    "        @media (max-width: 480px) {\n",
    "            .product-container {\n",
    "                width: 100%;\n",
    "            }\n",
    "        }\n",
    "    </style>\n",
    "    <h2>Search Results</h2>\n",
    "    <div class='product-grid'>\n",
    "    \"\"\"\n",
    "    for _, row in df_filtered.iterrows():\n",
    "        html_content += f\"\"\"\n",
    "        <div class='product-container'>\n",
    "            <img src=\"{row['image_url']}\" class='product-image'>\n",
    "            <div class='product-details'>\n",
    "                <strong>ID:</strong> {row['id']}<br>\n",
    "                <strong>Title:</strong> {row['title']}<br>\n",
    "                <strong>Color:</strong> {row['color']}<br>\n",
    "                <strong>Brand:</strong> {row['brand']}<br>\n",
    "                <strong>Gender:</strong> {row['gender']}<br>\n",
    "                <strong>Product Type:</strong> {row['product_type']}<br>\n",
    "                <strong>Style:</strong> {row['style']}<br>\n",
    "                <strong>Price:</strong> {row['price']}<br>\n",
    "                <strong>Price Range:</strong> {row['price_range']}<br>\n",
    "                <strong>Availability:</strong> {row['availability']}<br>\n",
    "                <strong>Description:</strong> {row['description']}<br>\n",
    "            </div>\n",
    "        </div>\n",
    "        \"\"\"\n",
    "\n",
    "    html_content += \"</div>\"\n",
    "    display(HTML(html_content))\n",
    "\n",
    "\n",
    "def display_shopping_assistant_results(\n",
    "    df: pd.DataFrame, groups: List[ShoppingAssistantGroupResult]\n",
    ") -> None:\n",
    "    html_content = \"\"\"\n",
    "    <style>\n",
    "        .group-title {\n",
    "            font-family: Arial, sans-serif;\n",
    "            font-size: 20px;\n",
    "            margin: 20px 0 10px;\n",
    "            color: #0073e6;\n",
    "        }\n",
    "        .product-group {\n",
    "            overflow-x: auto;\n",
    "            white-space: nowrap;\n",
    "            padding-bottom: 10px;\n",
    "            margin-bottom: 20px;\n",
    "        }\n",
    "        .product-container {\n",
    "            display: inline-block;\n",
    "            border: 1px solid #ddd;\n",
    "            padding: 10px;\n",
    "            border-radius: 8px;\n",
    "            background-color: #f9f9f9;\n",
    "            box-shadow: 2px 2px 8px rgba(0, 0, 0, 0.1);\n",
    "            width: 200px;\n",
    "            max-height: 400px;\n",
    "            margin-right: 15px;\n",
    "            box-sizing: border-box;\n",
    "            overflow-y: auto;\n",
    "            overflow-x: hidden;\n",
    "            word-wrap: break-word;\n",
    "        }\n",
    "        .product-image {\n",
    "            max-height: 150px;\n",
    "            border-radius: 6px;\n",
    "            margin-bottom: 10px;\n",
    "            width: 100%;\n",
    "            object-fit: contain;\n",
    "        }\n",
    "        .product-details {\n",
    "            font-family: Arial, sans-serif;\n",
    "            font-size: 12px;\n",
    "            line-height: 1.4;\n",
    "            color: #333;\n",
    "            text-align: left;\n",
    "            white-space: normal;\n",
    "        }\n",
    "        .product-details strong {\n",
    "            font-size: 14px;\n",
    "            color: #0073e6;\n",
    "        }\n",
    "        @media (max-width: 768px) {\n",
    "            .product-container {\n",
    "                width: 48%;\n",
    "            }\n",
    "        }\n",
    "        @media (max-width: 480px) {\n",
    "            .product-container {\n",
    "                width: 100%;\n",
    "            }\n",
    "        }\n",
    "    </style>\n",
    "    \"\"\"\n",
    "\n",
    "    for group in groups:\n",
    "        html_content += f\"<h2 class='group-title'>{group.group_name}</h2>\"\n",
    "        html_content += \"<div class='product-group'>\"\n",
    "\n",
    "        ids = [result.id for result in group.results]\n",
    "        df_filtered = df[df[\"id\"].isin(ids)].copy()\n",
    "        df_filtered[\"id\"] = pd.Categorical(\n",
    "            df_filtered[\"id\"], categories=ids, ordered=True\n",
    "        )\n",
    "        df_filtered = df_filtered.sort_values(\"id\")\n",
    "\n",
    "        for _, row in df_filtered.iterrows():\n",
    "            html_content += f\"\"\"\n",
    "            <div class='product-container'>\n",
    "                <img src=\"{row['image_url']}\" class='product-image'>\n",
    "                <div class='product-details'>\n",
    "                    <strong>ID:</strong> {row['id']}<br>\n",
    "                    <strong>Title:</strong> {row['title']}<br>\n",
    "                    <strong>Color:</strong> {row['color']}<br>\n",
    "                    <strong>Brand:</strong> {row['brand']}<br>\n",
    "                    <strong>Gender:</strong> {row['gender']}<br>\n",
    "                    <strong>Product Type:</strong> {row['product_type']}<br>\n",
    "                    <strong>Style:</strong> {row['style']}<br>\n",
    "                    <strong>Price:</strong> {row['price']}<br>\n",
    "                    <strong>Price Range:</strong> {row['price_range']}<br>\n",
    "                    <strong>Availability:</strong> {row['availability']}<br>\n",
    "                    <strong>Description:</strong> {row['description']}<br>\n",
    "                </div>\n",
    "            </div>\n",
    "            \"\"\"\n",
    "        html_content += \"</div>\"\n",
    "    display(HTML(html_content))\n",
    "\n",
    "\n",
    "def display_images(image_urls: List[str]) -> None:\n",
    "    html_content = \"\"\"\n",
    "    <style>\n",
    "        .product-grid {\n",
    "            display: flex;\n",
    "            flex-wrap: wrap;\n",
    "            justify-content: flex-start;\n",
    "            gap: 15px;\n",
    "        }\n",
    "        .product-container {\n",
    "            border: 1px solid #ddd;\n",
    "            padding: 10px;\n",
    "            border-radius: 8px;\n",
    "            background-color: #f9f9f9;\n",
    "            box-shadow: 2px 2px 8px rgba(0, 0, 0, 0.1);\n",
    "            width: 22%;\n",
    "            box-sizing: border-box;\n",
    "            overflow-y: auto; /* Enable scrolling */\n",
    "            max-height: 400px; /* Set maximum height for the product container */\n",
    "        }\n",
    "        .product-image {\n",
    "            max-height: 250px; /* Larger image */\n",
    "            border-radius: 6px;\n",
    "            margin-bottom: 10px;\n",
    "            width: 100%;\n",
    "            object-fit: contain;\n",
    "        }\n",
    "        @media (max-width: 768px) {\n",
    "            .product-container {\n",
    "                width: 48%;\n",
    "            }\n",
    "        }\n",
    "        @media (max-width: 480px) {\n",
    "            .product-container {\n",
    "                width: 100%;\n",
    "            }\n",
    "        }\n",
    "    </style>\n",
    "    <h2>Image Gallery</h2>\n",
    "    <div class='product-grid'>\n",
    "    \"\"\"\n",
    "    for image_url in image_urls:\n",
    "        html_content += f\"\"\"\n",
    "        <div class='product-container'>\n",
    "            <img src=\"{image_url}\" class='product-image'>\n",
    "        </div>\n",
    "        \"\"\"\n",
    "    html_content += \"</div>\"\n",
    "    display(HTML(html_content))\n"
   ]
  },
  {
   "cell_type": "markdown",
   "metadata": {},
   "source": [
    "# Dataset\n",
    "\n",
    "The dataset consists of ~37k fashion items scraped from: `https://asos.com`.\n"
   ]
  },
  {
   "cell_type": "code",
   "execution_count": null,
   "metadata": {},
   "outputs": [],
   "source": [
    "RAW_DATASET = \"smartcat/asos-data-embedded\""
   ]
  },
  {
   "cell_type": "code",
   "execution_count": null,
   "metadata": {},
   "outputs": [],
   "source": [
    "from datasets import load_dataset\n",
    "\n",
    "data = load_dataset(RAW_DATASET, split=\"train\")\n",
    "dataset = data.to_pandas()\n",
    "dataset.head(3)"
   ]
  },
  {
   "cell_type": "code",
   "execution_count": null,
   "metadata": {},
   "outputs": [],
   "source": [
    "display_row(dataset, 1)"
   ]
  },
  {
   "cell_type": "markdown",
   "metadata": {},
   "source": [
    "# Setup Vantage\n",
    "\n",
    "Create a new Vantage account (if you don't have one): https://www.vantagediscovery.com/\n",
    "\n",
    "Vantage console: https://console.vanta.ge/\n",
    "\n",
    "Vantage platform docs: https://docs.vantagediscovery.com/docs/about\n",
    "\n",
    "Copy Vantage API key from: https://console.vanta.ge/api"
   ]
  },
  {
   "cell_type": "code",
   "execution_count": null,
   "metadata": {},
   "outputs": [],
   "source": [
    "from getpass import getpass\n",
    "\n",
    "ACCOUNT_ID: str = \"YOUR_ACCOUNT_ID\"\n",
    "VANTAGE_API_KEY: str = getpass(\"Enter your Vantage API key: \")"
   ]
  },
  {
   "cell_type": "markdown",
   "metadata": {},
   "source": [
    "Create Vantage client:"
   ]
  },
  {
   "cell_type": "code",
   "execution_count": null,
   "metadata": {},
   "outputs": [],
   "source": [
    "from vantage_sdk import VantageClient\n",
    "\n",
    "vantage = VantageClient.using_vantage_api_key(\n",
    "    vantage_api_key=VANTAGE_API_KEY,\n",
    "    account_id=ACCOUNT_ID,\n",
    ")\n",
    "\n",
    "vantage.get_account()"
   ]
  },
  {
   "cell_type": "markdown",
   "metadata": {},
   "source": [
    "The Vantage platform can use popular models to retrieve item embeddings (or we can calculate them ourselves and upload). In this case, we’ll use OpenAI to get embeddings, so we need to add the OpenAI API key. There are two ways to do this:\n",
    "1. Use the Vantage Console to add a new Model API Key.\n",
    "2. Run the cell below.\n",
    "\n",
    "You can find OpenAI key for this workshop at the link:\n",
    "https://docs.google.com/document/d/1xJmf5cE2rCYJdqZ0CwXuGCnIbhpFKG2G4FGwRpLrg_c/edit?usp=sharing"
   ]
  },
  {
   "cell_type": "code",
   "execution_count": null,
   "metadata": {},
   "outputs": [],
   "source": [
    "OPENAI_API_KEY: str = getpass(\"Enter your OpenAI API key: \")"
   ]
  },
  {
   "cell_type": "code",
   "execution_count": null,
   "metadata": {},
   "outputs": [],
   "source": [
    "model_key = vantage.create_external_key(\n",
    "    llm_provider = \"OpenAI\",\n",
    "    llm_secret = OPENAI_API_KEY,\n",
    ")"
   ]
  },
  {
   "cell_type": "code",
   "execution_count": null,
   "metadata": {},
   "outputs": [],
   "source": [
    "model_key"
   ]
  },
  {
   "cell_type": "markdown",
   "metadata": {},
   "source": [
    "# Create collection\n",
    "A collection is a fundamental object of the Vantage Platform that enables you to organize, manage, and search your data sets within the platform. Your data records, called documents, are ingested into a collection.\n",
    "\n",
    "There are 2 types of collections:\n",
    "1. Vantage Managed Embeddings (VME) - Vantage Platform manage the translation of your data to AI embeddings.\n",
    "2. User Provided Embeddings (UPE) - You upload embeddings taken from the LLM of your choice into your collection.\n",
    "\n",
    "We'll create VME collection with OpenAI embeddings:"
   ]
  },
  {
   "cell_type": "code",
   "execution_count": null,
   "metadata": {
    "scrolled": true
   },
   "outputs": [],
   "source": [
    "from vantage_sdk.model.collection import OpenAICollection\n",
    "\n",
    "collection = OpenAICollection(\n",
    "    collection_id=\"fashion-items\",\n",
    "    embeddings_dimension=1536,\n",
    "    llm=\"text-embedding-3-large\",\n",
    "    external_key_id=model_key.external_key_id\n",
    ")\n",
    "created_collection = vantage.create_collection(collection=collection)"
   ]
  },
  {
   "cell_type": "code",
   "execution_count": null,
   "metadata": {},
   "outputs": [],
   "source": [
    "print(created_collection)"
   ]
  },
  {
   "cell_type": "markdown",
   "metadata": {},
   "source": [
    "# Indexing\n",
    "\n",
    "The dataset needs to be processed to match Vantage ingestion format.\n",
    "\n",
    "The documents we upload into the collection must conform to specific field and format requirements.\n",
    "\n",
    "<div>\n",
    "<img src=\"img/field_format.png\" width=\"700\"/>\n",
    "</div>\n",
    "\n",
    "Required fields:\n",
    "1. `id` - This represents your ID for this document. It will be handed back to you in search results.\n",
    "2. `text` for VME collections - text that will be embedded using your provided model\n",
    "3. `embeddings` for UPE collections - array of 32-bit floating point numbers. The array length should match the Dimension Size of the collection you're putting data into.\n",
    "\n",
    "Optional fields:\n",
    "1. `operation` - `update` (default), `delete`, `add`\n",
    "2. `meta_` fields - fields prefixed with `meta_` are used for search query filtering\n",
    "3. `meta_ordered_` fields - fields prefixed with `meta_ordered_` are used for sorting search query results\n",
    "4. `variants` - used to specify multiple variants of the product\n",
    "\n",
    "The data can be uploaded:\n",
    "- As `parquet` or `jsonl` files via Console, SDK, or API\n",
    "- Using document upload API"
   ]
  },
  {
   "cell_type": "markdown",
   "metadata": {},
   "source": [
    "### Prepare input data"
   ]
  },
  {
   "cell_type": "code",
   "execution_count": null,
   "metadata": {
    "scrolled": true
   },
   "outputs": [],
   "source": [
    "dataset.head(1)"
   ]
  },
  {
   "cell_type": "markdown",
   "metadata": {},
   "source": [
    "We'll create `parquet` file and upload it to the platform:\n",
    "\n",
    "Create filter columns:"
   ]
  },
  {
   "cell_type": "code",
   "execution_count": null,
   "metadata": {},
   "outputs": [],
   "source": [
    "vantage_data = dataset.rename(\n",
    "    columns={\n",
    "        \"availability\": \"meta_availability\",\n",
    "        \"brand\": \"meta_brand\",\n",
    "        \"gender\": \"meta_gender\",\n",
    "        \"product_type\": \"meta_product_type\",\n",
    "        \"style\": \"meta_style\",\n",
    "        \"color\": \"meta_color\",\n",
    "        \"price\": \"meta_ordered_price\",\n",
    "        \"price_range\": \"meta_price_range\",\n",
    "    }\n",
    ")\n",
    "vantage_data.head(1)"
   ]
  },
  {
   "cell_type": "markdown",
   "metadata": {},
   "source": [
    "Create text column:"
   ]
  },
  {
   "cell_type": "code",
   "execution_count": null,
   "metadata": {},
   "outputs": [],
   "source": [
    "def get_text(row: pd.Series) -> str:\n",
    "    return \"Title: \" + row[\"title\"] + \"\\nDescription: \" + row[\"description\"]\n",
    "\n",
    "\n",
    "vantage_data[\"text\"] = vantage_data.apply(get_text, axis=1)\n",
    "vantage_data.drop(columns=[\"description\", \"image_url\", \"title\"], inplace=True)\n",
    "vantage_data.head(3)"
   ]
  },
  {
   "cell_type": "code",
   "execution_count": null,
   "metadata": {},
   "outputs": [],
   "source": [
    "INPUT_FILE_PATH: str = \"input.parquet\"\n",
    "\n",
    "vantage_data.to_parquet(INPUT_FILE_PATH, index=False)"
   ]
  },
  {
   "cell_type": "markdown",
   "metadata": {},
   "source": [
    "### Index data"
   ]
  },
  {
   "cell_type": "markdown",
   "metadata": {},
   "source": [
    "Upload data into the collection:"
   ]
  },
  {
   "cell_type": "code",
   "execution_count": null,
   "metadata": {},
   "outputs": [],
   "source": [
    "vantage.upload_documents_from_parquet_file(\n",
    "    collection_id=created_collection.collection_id,\n",
    "    parquet_file_path=INPUT_FILE_PATH\n",
    ")"
   ]
  },
  {
   "cell_type": "markdown",
   "metadata": {},
   "source": [
    "# Search"
   ]
  },
  {
   "cell_type": "markdown",
   "metadata": {},
   "source": [
    "Vantage platform provides different types of search:\n",
    "\n",
    "<div>\n",
    "<img src=\"img/search_types.png\" width=\"1000\"/>\n",
    "</div>\n",
    "\n",
    "1. Semantic search (for VME collections)\n",
    "2. Embedding search (for UPE collections)\n",
    "3. More-like-this search\n",
    "4. More-like-these search\n",
    "5. Vantage Vibe\n",
    "6. Shopping assistant"
   ]
  },
  {
   "cell_type": "markdown",
   "metadata": {},
   "source": [
    "### Semantic search\n",
    "\n",
    "It takes a text query (typically entered by the end user) and returns IDs and relevance scores of the semantically closest items.\n",
    "\n",
    "#### **Simple semantic search:**"
   ]
  },
  {
   "cell_type": "code",
   "execution_count": null,
   "metadata": {},
   "outputs": [],
   "source": [
    "semantic_results = vantage.semantic_search(\n",
    "    text=\"adidas sneakers\",\n",
    "    collection_id=created_collection.collection_id,\n",
    ")"
   ]
  },
  {
   "cell_type": "code",
   "execution_count": null,
   "metadata": {
    "scrolled": true
   },
   "outputs": [],
   "source": [
    "display_query_results(dataset, semantic_results.results)"
   ]
  },
  {
   "cell_type": "markdown",
   "metadata": {},
   "source": [
    "#### **Semantic search with filters**\n",
    "\n",
    "Search results can be filtered by `meta` columns and ordered by `meta_ordered` columns:"
   ]
  },
  {
   "cell_type": "code",
   "execution_count": null,
   "metadata": {},
   "outputs": [],
   "source": [
    "from vantage_sdk.model.search import Filter, Sort, Pagination\n",
    "\n",
    "results_with_filters = vantage.semantic_search(\n",
    "    text=\"adidas sneakers\",\n",
    "    collection_id=created_collection.collection_id,\n",
    "    filter=Filter(boolean_filter=\"(gender:\\\"Men\\\" AND color:\\\"WHITE\\\")\"),\n",
    "    sort=Sort(field=\"price\", order=\"asc\", mode=\"semantic_threshold\"),\n",
    "    pagination=Pagination(page=0, count=10, threshold=10)\n",
    ")"
   ]
  },
  {
   "cell_type": "code",
   "execution_count": null,
   "metadata": {
    "scrolled": true
   },
   "outputs": [],
   "source": [
    "display_query_results(dataset, results_with_filters.results)"
   ]
  },
  {
   "cell_type": "markdown",
   "metadata": {},
   "source": [
    "#### **More semantic search examples**"
   ]
  },
  {
   "cell_type": "code",
   "execution_count": null,
   "metadata": {},
   "outputs": [],
   "source": [
    "semantic_results_2 = vantage.semantic_search(\n",
    "    text=\"outfit for gym cardio sessions\",\n",
    "    filter=Filter(boolean_filter=\"gender:\\\"Men\\\"\"),\n",
    "    collection_id=created_collection.collection_id,\n",
    ")"
   ]
  },
  {
   "cell_type": "code",
   "execution_count": null,
   "metadata": {
    "scrolled": true
   },
   "outputs": [],
   "source": [
    "display_query_results(dataset, semantic_results_2.results)"
   ]
  },
  {
   "cell_type": "code",
   "execution_count": null,
   "metadata": {},
   "outputs": [],
   "source": [
    "semantic_results_3 = vantage.semantic_search(\n",
    "    text=\"Elegant dinner party outfit\",\n",
    "    collection_id=created_collection.collection_id,\n",
    ")"
   ]
  },
  {
   "cell_type": "code",
   "execution_count": null,
   "metadata": {
    "scrolled": true
   },
   "outputs": [],
   "source": [
    "display_query_results(dataset, semantic_results_3.results)"
   ]
  },
  {
   "cell_type": "code",
   "execution_count": null,
   "metadata": {},
   "outputs": [],
   "source": [
    "semantic_results_4 = vantage.semantic_search(\n",
    "    text=\"Light and comfortable clothing for a summer vacation\",\n",
    "    collection_id=created_collection.collection_id,\n",
    ")"
   ]
  },
  {
   "cell_type": "code",
   "execution_count": null,
   "metadata": {
    "scrolled": true
   },
   "outputs": [],
   "source": [
    "display_query_results(dataset, semantic_results_4.results)"
   ]
  },
  {
   "cell_type": "markdown",
   "metadata": {},
   "source": [
    "#### More like this\n",
    "\n",
    "This type of search takes a document ID and finds similar results in your collection."
   ]
  },
  {
   "cell_type": "code",
   "execution_count": null,
   "metadata": {},
   "outputs": [],
   "source": [
    "more_like_this_results = vantage.more_like_this_search(\n",
    "    document_id=\"205467652\",\n",
    "    collection_id=created_collection.collection_id,\n",
    ")"
   ]
  },
  {
   "cell_type": "code",
   "execution_count": null,
   "metadata": {
    "scrolled": true
   },
   "outputs": [],
   "source": [
    "display_query_results(dataset, more_like_this_results.results)"
   ]
  },
  {
   "cell_type": "markdown",
   "metadata": {},
   "source": [
    "#### More like these\n",
    "\n",
    "<div>\n",
    "<img src=\"img/more_like_these.png\" width=\"800\"/>\n",
    "</div>\n",
    "\n",
    "This type of search blends `text`, `items`, and `embeddings` to get personalized search, usually based on user data or external sources. \n",
    "It allows combining multi-modal inputs, such as blending image embeddings or text descriptions with current searches."
   ]
  },
  {
   "cell_type": "code",
   "execution_count": null,
   "metadata": {},
   "outputs": [],
   "source": [
    "from vantage_sdk.model.search import MoreLikeTheseItem\n",
    "\n",
    "these = [\n",
    "    MoreLikeTheseItem(query_text=\"outfit for long walks\", weight=0.4),\n",
    "    MoreLikeTheseItem(query_document_id=\"205737298\", weight=0.4),\n",
    "    MoreLikeTheseItem(query_document_id=\"204151756\", weight=0.2)\n",
    "]\n",
    "more_like_these_results = vantage.more_like_these_search(\n",
    "    more_like_these=these,\n",
    "    collection_id=created_collection.collection_id,\n",
    "    filter=Filter(boolean_filter=\"gender:\\\"Men\\\"\"),\n",
    ")"
   ]
  },
  {
   "cell_type": "code",
   "execution_count": null,
   "metadata": {
    "scrolled": true
   },
   "outputs": [],
   "source": [
    "display_query_results(dataset, more_like_these_results.results)"
   ]
  },
  {
   "cell_type": "markdown",
   "metadata": {},
   "source": [
    "#### **Vantage Vibe**\n",
    "\n",
    "This feature allows you to search over collections with a specific \"vibe\" or thematic focus. This feature leverages both visual and semantic inputs to refine and personalize search results.\n",
    "\n",
    "We need to create a Vibe configuration first:"
   ]
  },
  {
   "cell_type": "code",
   "execution_count": null,
   "metadata": {},
   "outputs": [],
   "source": [
    "vibe = vantage.create_vibe_configuration(\n",
    "    name=\"Floral vibe\",\n",
    "    external_account_id=model_key.external_key_id,\n",
    "    llm_model_name=\"gpt-4o-mini\",\n",
    ")\n",
    "vibe"
   ]
  },
  {
   "cell_type": "markdown",
   "metadata": {},
   "source": [
    "Images that will be used for Vibe search:"
   ]
  },
  {
   "cell_type": "code",
   "execution_count": null,
   "metadata": {},
   "outputs": [],
   "source": [
    "VIBE_IMAGES: List[str] = [\n",
    "    \"https://cdna.lystit.com/520/650/n/photos/asos/bc43b994/nobodys-child-Multi-floral-Aurora-Bloom-Bandeau-Midi-Dress.jpeg\",\n",
    "    \"https://product-images.thecoolhour.com/images/asos_annorlunda_annorlunda_barb_wire_floral_asymmetric_fluted_sleeve_midaxi_dress_in_pink_xl.jpg\",\n",
    "    \"https://images.asos-media.com/products/french-connection-long-sleeve-mini-mesh-dress-in-white-floral/204319668-1-whitefloral?$n_960w$&wid=952&fit=constrain\",\n",
    "    \"https://is4.revolveassets.com/images/p4/n/z/ASTR-WD159_V1.jpg\"\n",
    "]\n",
    "\n",
    "display_images(VIBE_IMAGES)"
   ]
  },
  {
   "cell_type": "markdown",
   "metadata": {},
   "source": [
    "Vibe search:"
   ]
  },
  {
   "cell_type": "code",
   "execution_count": null,
   "metadata": {},
   "outputs": [],
   "source": [
    "from vantage_sdk.model.search import VantageVibeImageUrl\n",
    "\n",
    "images = [VantageVibeImageUrl(url=image) for image in VIBE_IMAGES]\n",
    "text = \"romantic dinner\"\n",
    "\n",
    "vibe_results = vantage.vantage_vibe_search(\n",
    "    vibe_id=vibe.id,\n",
    "    collection_id=created_collection.collection_id,\n",
    "    images=images,\n",
    "    text=text,\n",
    ")"
   ]
  },
  {
   "cell_type": "code",
   "execution_count": null,
   "metadata": {
    "scrolled": true
   },
   "outputs": [],
   "source": [
    "display_query_results(dataset, vibe_results.results)"
   ]
  },
  {
   "cell_type": "markdown",
   "metadata": {},
   "source": [
    "#### **Shopping assistant**"
   ]
  },
  {
   "cell_type": "markdown",
   "metadata": {},
   "source": [
    "With shopping assistant, users can create a detailed specification that defines how search results should be grouped. These groups are created based on the criteria set during the assistant's creation. Once the assistant is set up, users can perform searches by sending a `text query` and a `shopping_assistant_id`.\n",
    "\n",
    "We need to create a Shopping assistant configuration first:"
   ]
  },
  {
   "cell_type": "code",
   "execution_count": null,
   "metadata": {},
   "outputs": [],
   "source": [
    "shopping_assistant = vantage.create_shopping_assistant(\n",
    "    name=\"Full outfit assistant\",\n",
    "    groups=[\"shirt\", \"pants\", \"shoes\"],\n",
    "    external_account_id=model_key.external_key_id,\n",
    "    llm_model_name=\"gpt-4o-mini\",\n",
    ")"
   ]
  },
  {
   "cell_type": "code",
   "execution_count": null,
   "metadata": {},
   "outputs": [],
   "source": [
    "shopping_assistant"
   ]
  },
  {
   "cell_type": "markdown",
   "metadata": {},
   "source": [
    "Query using shopping assistant:"
   ]
  },
  {
   "cell_type": "code",
   "execution_count": null,
   "metadata": {},
   "outputs": [],
   "source": [
    "response = vantage.shopping_assistant_search(\n",
    "    collection_id=created_collection.collection_id,\n",
    "    text=\"outfit for business meeting\",\n",
    "    shopping_assistant_id=shopping_assistant.shopping_assistant_id,\n",
    "    max_groups=3,\n",
    "    filter=Filter(boolean_filter=\"gender:\\\"Men\\\"\"),\n",
    ")"
   ]
  },
  {
   "cell_type": "code",
   "execution_count": null,
   "metadata": {
    "scrolled": true
   },
   "outputs": [],
   "source": [
    "response"
   ]
  },
  {
   "cell_type": "code",
   "execution_count": null,
   "metadata": {},
   "outputs": [],
   "source": [
    "display_shopping_assistant_results(dataset, response.groups)"
   ]
  }
 ],
 "metadata": {
  "kernelspec": {
   "display_name": "Python 3 (ipykernel)",
   "language": "python",
   "name": "python3"
  },
  "language_info": {
   "codemirror_mode": {
    "name": "ipython",
    "version": 3
   },
   "file_extension": ".py",
   "mimetype": "text/x-python",
   "name": "python",
   "nbconvert_exporter": "python",
   "pygments_lexer": "ipython3",
   "version": "3.11.4"
  }
 },
 "nbformat": 4,
 "nbformat_minor": 4
}
