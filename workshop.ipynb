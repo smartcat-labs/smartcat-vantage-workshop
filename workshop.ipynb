{
 "cells": [
  {
   "cell_type": "markdown",
   "metadata": {
    "editable": true,
    "slideshow": {
     "slide_type": ""
    },
    "tags": []
   },
   "source": [
    "![title.png](img/title.png)"
   ]
  },
  {
   "cell_type": "markdown",
   "metadata": {},
   "source": [
    "![line.png](img/line.png)"
   ]
  },
  {
   "cell_type": "markdown",
   "metadata": {},
   "source": [
    "![objectives.png](img/objectives.png)"
   ]
  },
  {
   "cell_type": "markdown",
   "metadata": {},
   "source": [
    "![line.png](img/line.png)"
   ]
  },
  {
   "cell_type": "markdown",
   "metadata": {},
   "source": [
    "![history.png](img/history.png)"
   ]
  },
  {
   "cell_type": "markdown",
   "metadata": {},
   "source": [
    "![line.png](img/line.png)"
   ]
  },
  {
   "cell_type": "markdown",
   "metadata": {},
   "source": [
    "![keyword_search_1](img/keyword_search_1.png)"
   ]
  },
  {
   "cell_type": "markdown",
   "metadata": {},
   "source": [
    "![line.png](img/line.png)"
   ]
  },
  {
   "cell_type": "markdown",
   "metadata": {},
   "source": [
    "![keyword_search_2.png](img/keyword_search_2.png)"
   ]
  },
  {
   "cell_type": "markdown",
   "metadata": {},
   "source": [
    "![line.png](img/line.png)"
   ]
  },
  {
   "cell_type": "markdown",
   "metadata": {},
   "source": [
    "![vector_embeddings.png](img/vector_embeddings.png)"
   ]
  },
  {
   "cell_type": "markdown",
   "metadata": {},
   "source": [
    "![line.png](img/line.png)"
   ]
  },
  {
   "cell_type": "markdown",
   "metadata": {},
   "source": [
    "![semantic_search.png](img/semantic_search.png)"
   ]
  },
  {
   "cell_type": "markdown",
   "metadata": {},
   "source": [
    "![line.png](img/line.png)"
   ]
  },
  {
   "cell_type": "markdown",
   "metadata": {},
   "source": [
    "![workshop_beginning.png](img/workshop_beginning.png)"
   ]
  },
  {
   "cell_type": "markdown",
   "metadata": {},
   "source": [
    "# Setup environment\n",
    "\n",
    "Install required libraries:"
   ]
  },
  {
   "cell_type": "code",
   "execution_count": null,
   "metadata": {},
   "outputs": [],
   "source": [
    "! pip install \\\n",
    "    pandas==2.2.2 \\\n",
    "    pyarrow==17.0.0 \\\n",
    "    vantage-sdk==0.9.3 \\\n",
    "    datasets==3.0.1"
   ]
  },
  {
   "cell_type": "markdown",
   "metadata": {},
   "source": [
    "Setup utility functions (just execute following cell):"
   ]
  },
  {
   "cell_type": "code",
   "execution_count": null,
   "metadata": {},
   "outputs": [],
   "source": [
    "from utils import (\n",
    "    display_row,\n",
    "    display_query_results,\n",
    "    display_shopping_assistant_results,\n",
    "    display_images\n",
    ")"
   ]
  },
  {
   "cell_type": "markdown",
   "metadata": {},
   "source": [
    "# Dataset\n",
    "\n",
    "The dataset consists of ~37k fashion items scraped from: `https://asos.com`.\n"
   ]
  },
  {
   "cell_type": "code",
   "execution_count": null,
   "metadata": {},
   "outputs": [],
   "source": [
    "RAW_DATASET = \"smartcat/asos-data-embedded\""
   ]
  },
  {
   "cell_type": "code",
   "execution_count": null,
   "metadata": {},
   "outputs": [],
   "source": [
    "from datasets import load_dataset\n",
    "\n",
    "data = load_dataset(RAW_DATASET, split=\"train\")\n",
    "dataset = data.to_pandas()\n",
    "dataset.head(3)"
   ]
  },
  {
   "cell_type": "code",
   "execution_count": null,
   "metadata": {},
   "outputs": [],
   "source": [
    "display_row(dataset, 1)"
   ]
  },
  {
   "cell_type": "markdown",
   "metadata": {},
   "source": [
    "# Setup Vantage\n",
    "\n",
    "Create a new Vantage account (if you don't have one): https://www.vantagediscovery.com/\n",
    "\n",
    "Vantage console: https://console.vanta.ge/\n",
    "\n",
    "Vantage platform docs: https://docs.vantagediscovery.com/docs/about\n",
    "\n",
    "Copy Vantage API key from: https://console.vanta.ge/api"
   ]
  },
  {
   "cell_type": "code",
   "execution_count": null,
   "metadata": {},
   "outputs": [],
   "source": [
    "from getpass import getpass\n",
    "\n",
    "ACCOUNT_ID: str = \"YOUR_ACCOUNT_ID\"\n",
    "VANTAGE_API_KEY: str = getpass(\"Enter your Vantage API key: \")"
   ]
  },
  {
   "cell_type": "markdown",
   "metadata": {},
   "source": [
    "Create Vantage client:"
   ]
  },
  {
   "cell_type": "code",
   "execution_count": null,
   "metadata": {},
   "outputs": [],
   "source": [
    "from vantage_sdk import VantageClient\n",
    "\n",
    "vantage = VantageClient.using_vantage_api_key(\n",
    "    vantage_api_key=VANTAGE_API_KEY,\n",
    "    account_id=ACCOUNT_ID,\n",
    ")\n",
    "\n",
    "vantage.get_account()"
   ]
  },
  {
   "cell_type": "markdown",
   "metadata": {},
   "source": [
    "The Vantage platform can use popular models to retrieve item embeddings (or we can calculate them ourselves and upload). In this case, we’ll use OpenAI to get embeddings, so we need to add the OpenAI API key. There are two ways to do this:\n",
    "1. Use the Vantage Console to add a new Model API Key.\n",
    "2. Run the cell below."
   ]
  },
  {
   "cell_type": "code",
   "execution_count": null,
   "metadata": {},
   "outputs": [],
   "source": [
    "OPENAI_API_KEY: str = getpass(\"Enter your OpenAI API key: \")"
   ]
  },
  {
   "cell_type": "code",
   "execution_count": null,
   "metadata": {},
   "outputs": [],
   "source": [
    "model_key = vantage.create_external_key(\n",
    "    llm_provider = \"OpenAI\",\n",
    "    llm_secret = OPENAI_API_KEY,\n",
    ")"
   ]
  },
  {
   "cell_type": "code",
   "execution_count": null,
   "metadata": {},
   "outputs": [],
   "source": [
    "model_key"
   ]
  },
  {
   "cell_type": "markdown",
   "metadata": {},
   "source": [
    "# Create collection\n",
    "A collection is a fundamental object of the Vantage Platform that enables you to organize, manage, and search your data sets within the platform. Your data records, called documents, are ingested into a collection.\n",
    "\n",
    "There are 2 types of collections:\n",
    "1. Vantage Managed Embeddings (VME) - Vantage Platform manage the translation of your data to AI embeddings.\n",
    "2. User Provided Embeddings (UPE) - You upload embeddings taken from the LLM of your choice into your collection.\n",
    "\n",
    "We'll create VME collection with OpenAI embeddings:"
   ]
  },
  {
   "cell_type": "code",
   "execution_count": null,
   "metadata": {
    "scrolled": true
   },
   "outputs": [],
   "source": [
    "from vantage_sdk.model.collection import OpenAICollection\n",
    "\n",
    "collection = OpenAICollection(\n",
    "    collection_id=\"test-collection-4\",\n",
    "    embeddings_dimension=1536,\n",
    "    llm=\"text-embedding-ada-002\",\n",
    "    external_key_id=model_key.external_key_id\n",
    ")\n",
    "created_collection = vantage.create_collection(collection=collection)"
   ]
  },
  {
   "cell_type": "code",
   "execution_count": null,
   "metadata": {},
   "outputs": [],
   "source": [
    "print(created_collection)"
   ]
  },
  {
   "cell_type": "markdown",
   "metadata": {},
   "source": [
    "# Indexing\n",
    "\n",
    "The dataset needs to be processed to match Vantage ingestion format.\n",
    "\n",
    "The documents we upload into the collection must conform to specific field and format requirements.\n",
    "\n",
    "<div>\n",
    "<img src=\"img/field_format.png\" width=\"700\"/>\n",
    "</div>\n",
    "\n",
    "Required fields:\n",
    "1. `id` - This represents your ID for this document. It will be handed back to you in search results.\n",
    "2. `text` for VME collections - text that will be embedded using your provided model\n",
    "3. `embeddings` for UPE collections - array of 32-bit floating point numbers. The array length should match the Dimension Size of the collection you're putting data into.\n",
    "\n",
    "Optional fields:\n",
    "1. `operation` - `update` (default), `delete`, `add`\n",
    "2. `meta_` fields - fields prefixed with `meta_` are used for search query filtering\n",
    "3. `meta_ordered_` fields - fields prefixed with `meta_ordered_` are used for sorting search query results\n",
    "4. `variants` - used to specify multiple variants of the product\n",
    "\n",
    "The data can be uploaded:\n",
    "- As `parquet` or `jsonl` files via Console, SDK, or API\n",
    "- Using document upload API"
   ]
  },
  {
   "cell_type": "markdown",
   "metadata": {},
   "source": [
    "### Prepare input data"
   ]
  },
  {
   "cell_type": "code",
   "execution_count": null,
   "metadata": {
    "scrolled": true
   },
   "outputs": [],
   "source": [
    "dataset.head(1)"
   ]
  },
  {
   "cell_type": "markdown",
   "metadata": {},
   "source": [
    "We'll create `parquet` file and upload it to the platform:\n",
    "\n",
    "Create filter columns:"
   ]
  },
  {
   "cell_type": "code",
   "execution_count": null,
   "metadata": {},
   "outputs": [],
   "source": [
    "vantage_data = dataset.rename(\n",
    "    columns={\n",
    "        \"availability\": \"meta_availability\",\n",
    "        \"brand\": \"meta_brand\",\n",
    "        \"gender\": \"meta_gender\",\n",
    "        \"product_type\": \"meta_product_type\",\n",
    "        \"style\": \"meta_style\",\n",
    "        \"color\": \"meta_color\",\n",
    "        \"price\": \"meta_ordered_price\",\n",
    "        \"price_range\": \"meta_price_range\",\n",
    "    }\n",
    ")\n",
    "vantage_data.head(1)"
   ]
  },
  {
   "cell_type": "markdown",
   "metadata": {},
   "source": [
    "Create text column:"
   ]
  },
  {
   "cell_type": "code",
   "execution_count": null,
   "metadata": {},
   "outputs": [],
   "source": [
    "def get_text(row: pd.Series) -> str:\n",
    "    return \"Title: \" + row[\"title\"] + \"\\nDescription: \" + row[\"description\"]\n",
    "\n",
    "\n",
    "vantage_data[\"text\"] = vantage_data.apply(get_text, axis=1)\n",
    "vantage_data.drop(columns=[\"description\", \"image_url\", \"title\"], inplace=True)\n",
    "vantage_data.head(3)"
   ]
  },
  {
   "cell_type": "code",
   "execution_count": null,
   "metadata": {},
   "outputs": [],
   "source": [
    "INPUT_FILE_PATH: str = \"data/input.parquet\"\n",
    "\n",
    "vantage_data.to_parquet(INPUT_FILE_PATH, index=False)"
   ]
  },
  {
   "cell_type": "markdown",
   "metadata": {},
   "source": [
    "### Index data"
   ]
  },
  {
   "cell_type": "markdown",
   "metadata": {},
   "source": [
    "Upload data into the collection:"
   ]
  },
  {
   "cell_type": "code",
   "execution_count": null,
   "metadata": {},
   "outputs": [],
   "source": [
    "vantage.upload_documents_from_parquet_file(\n",
    "    collection_id=created_collection.collection_id,\n",
    "    parquet_file_path=INPUT_FILE_PATH\n",
    ")"
   ]
  },
  {
   "cell_type": "markdown",
   "metadata": {},
   "source": [
    "# Search"
   ]
  },
  {
   "cell_type": "markdown",
   "metadata": {},
   "source": [
    "Vantage platform provides different types of search:\n",
    "\n",
    "<div>\n",
    "<img src=\"img/search_types.png\" width=\"1000\"/>\n",
    "</div>\n",
    "\n",
    "1. Semantic search (for VME collections)\n",
    "2. Embedding search (for UPE collections)\n",
    "3. More-like-this search\n",
    "4. More-like-these search\n",
    "5. Vantage Vibe\n",
    "6. Shopping assistant"
   ]
  },
  {
   "cell_type": "markdown",
   "metadata": {},
   "source": [
    "### Semantic search\n",
    "\n",
    "It takes a text query (typically entered by the end user) and returns IDs and relevance scores of the semantically closest items.\n",
    "\n",
    "#### **Simple semantic search:**"
   ]
  },
  {
   "cell_type": "code",
   "execution_count": null,
   "metadata": {},
   "outputs": [],
   "source": [
    "semantic_results = vantage.semantic_search(\n",
    "    text=\"adidas sneakers\",\n",
    "    collection_id=created_collection.collection_id,\n",
    ")"
   ]
  },
  {
   "cell_type": "code",
   "execution_count": null,
   "metadata": {
    "scrolled": true
   },
   "outputs": [],
   "source": [
    "display_query_results(dataset, semantic_results.results)"
   ]
  },
  {
   "cell_type": "markdown",
   "metadata": {},
   "source": [
    "#### **Semantic search with filters**\n",
    "\n",
    "Search results can be filtered by `meta` columns and ordered by `meta_ordered` columns:"
   ]
  },
  {
   "cell_type": "code",
   "execution_count": null,
   "metadata": {},
   "outputs": [],
   "source": [
    "from vantage_sdk.model.search import Filter, Sort, Pagination\n",
    "\n",
    "results_with_filters = vantage.semantic_search(\n",
    "    text=\"adidas sneakers\",\n",
    "    collection_id=created_collection.collection_id,\n",
    "    filter=Filter(boolean_filter=\"(gender:\\\"Men\\\" AND color:\\\"WHITE\\\")\"),\n",
    "    sort=Sort(field=\"price\", order=\"asc\", mode=\"semantic_threshold\"),\n",
    "    pagination=Pagination(page=0, count=10, threshold=10)\n",
    ")"
   ]
  },
  {
   "cell_type": "code",
   "execution_count": null,
   "metadata": {
    "scrolled": true
   },
   "outputs": [],
   "source": [
    "display_query_results(dataset, results_with_filters.results)"
   ]
  },
  {
   "cell_type": "markdown",
   "metadata": {},
   "source": [
    "#### **More semantic search examples**"
   ]
  },
  {
   "cell_type": "code",
   "execution_count": null,
   "metadata": {},
   "outputs": [],
   "source": [
    "semantic_results_2 = vantage.semantic_search(\n",
    "    text=\"outfit for gym cardio sessions\",\n",
    "    filter=Filter(boolean_filter=\"gender:\\\"Men\\\"\"),\n",
    "    collection_id=created_collection.collection_id,\n",
    ")"
   ]
  },
  {
   "cell_type": "code",
   "execution_count": null,
   "metadata": {
    "scrolled": true
   },
   "outputs": [],
   "source": [
    "display_query_results(dataset, semantic_results_2.results)"
   ]
  },
  {
   "cell_type": "code",
   "execution_count": null,
   "metadata": {},
   "outputs": [],
   "source": [
    "semantic_results_3 = vantage.semantic_search(\n",
    "    text=\"Elegant dinner party outfit\",\n",
    "    collection_id=created_collection.collection_id,\n",
    ")"
   ]
  },
  {
   "cell_type": "code",
   "execution_count": null,
   "metadata": {
    "scrolled": true
   },
   "outputs": [],
   "source": [
    "display_query_results(dataset, semantic_results_3.results)"
   ]
  },
  {
   "cell_type": "code",
   "execution_count": null,
   "metadata": {},
   "outputs": [],
   "source": [
    "semantic_results_4 = vantage.semantic_search(\n",
    "    text=\"Light and comfortable clothing for a summer vacation\",\n",
    "    collection_id=created_collection.collection_id,\n",
    ")"
   ]
  },
  {
   "cell_type": "code",
   "execution_count": null,
   "metadata": {
    "scrolled": true
   },
   "outputs": [],
   "source": [
    "display_query_results(dataset, semantic_results_4.results)"
   ]
  },
  {
   "cell_type": "markdown",
   "metadata": {},
   "source": [
    "#### More like this\n",
    "\n",
    "This type of search takes a document ID and finds similar results in your collection."
   ]
  },
  {
   "cell_type": "code",
   "execution_count": null,
   "metadata": {},
   "outputs": [],
   "source": [
    "more_like_this_results = vantage.more_like_this_search(\n",
    "    document_id=\"205357122\",\n",
    "    collection_id=\"test-collection-3\"\n",
    ")"
   ]
  },
  {
   "cell_type": "code",
   "execution_count": null,
   "metadata": {
    "scrolled": true
   },
   "outputs": [],
   "source": [
    "display_query_results(dataset, more_like_this_results.results)"
   ]
  },
  {
   "cell_type": "markdown",
   "metadata": {},
   "source": [
    "#### More like these\n",
    "\n",
    "<div>\n",
    "<img src=\"img/more_like_these.png\" width=\"800\"/>\n",
    "</div>\n",
    "\n",
    "This type of search blends `text`, `items`, and `embeddings` to get personalized search, usually based on user data or external sources. \n",
    "It allows combining multi-modal inputs, such as blending image embeddings or text descriptions with current searches."
   ]
  },
  {
   "cell_type": "code",
   "execution_count": null,
   "metadata": {},
   "outputs": [],
   "source": [
    "from vantage_sdk.model.search import MoreLikeTheseItem\n",
    "\n",
    "these = [\n",
    "    MoreLikeTheseItem(query_text=\"outfit for long walks\", weight=0.4),\n",
    "    MoreLikeTheseItem(query_document_id=\"205629611\", weight=0.4),\n",
    "    MoreLikeTheseItem(query_document_id=\"206263911\", weight=0.2)\n",
    "]\n",
    "more_like_these_results = vantage.more_like_these_search(\n",
    "    more_like_these=these,\n",
    "    collection_id=created_collection.collection_id,\n",
    "    filter=Filter(boolean_filter=\"gender:\\\"Men\\\"\"),\n",
    ")"
   ]
  },
  {
   "cell_type": "code",
   "execution_count": null,
   "metadata": {
    "scrolled": true
   },
   "outputs": [],
   "source": [
    "display_query_results(dataset, more_like_these_results.results)"
   ]
  },
  {
   "cell_type": "markdown",
   "metadata": {},
   "source": [
    "#### **Vantage Vibe**\n",
    "\n",
    "This feature allows you to search over collections with a specific \"vibe\" or thematic focus. This feature leverages both visual and semantic inputs to refine and personalize search results.\n",
    "\n",
    "We need to create a Vibe configuration first:"
   ]
  },
  {
   "cell_type": "code",
   "execution_count": null,
   "metadata": {},
   "outputs": [],
   "source": [
    "vibe = vantage.create_vibe_configuration(\n",
    "    name=\"Floral vibe\",\n",
    "    external_account_id=model_key.external_key_id,\n",
    "    llm_model_name=\"gpt-4o-mini\",\n",
    ")\n",
    "vibe"
   ]
  },
  {
   "cell_type": "markdown",
   "metadata": {},
   "source": [
    "Images that will be used for Vibe search:"
   ]
  },
  {
   "cell_type": "code",
   "execution_count": null,
   "metadata": {},
   "outputs": [],
   "source": [
    "VIBE_IMAGES: List[str] = [\n",
    "    \"https://cdna.lystit.com/520/650/n/photos/asos/bc43b994/nobodys-child-Multi-floral-Aurora-Bloom-Bandeau-Midi-Dress.jpeg\",\n",
    "    \"https://product-images.thecoolhour.com/images/asos_annorlunda_annorlunda_barb_wire_floral_asymmetric_fluted_sleeve_midaxi_dress_in_pink_xl.jpg\",\n",
    "    \"https://images.asos-media.com/products/french-connection-long-sleeve-mini-mesh-dress-in-white-floral/204319668-1-whitefloral?$n_960w$&wid=952&fit=constrain\",\n",
    "    \"https://is4.revolveassets.com/images/p4/n/z/ASTR-WD159_V1.jpg\"\n",
    "]\n",
    "\n",
    "display_images(VIBE_IMAGES)"
   ]
  },
  {
   "cell_type": "markdown",
   "metadata": {},
   "source": [
    "Vibe search:"
   ]
  },
  {
   "cell_type": "code",
   "execution_count": null,
   "metadata": {},
   "outputs": [],
   "source": [
    "from vantage_sdk.model.search import VantageVibeImageUrl\n",
    "\n",
    "images = [VantageVibeImageUrl(url=image) for image in VIBE_IMAGES]\n",
    "text = \"romantic dinner\"\n",
    "\n",
    "vibe_results = vantage.vantage_vibe_search(\n",
    "    vibe_id=vibe.id,\n",
    "    collection_id=created_collection.collection_id,\n",
    "    images=images,\n",
    "    text=text,\n",
    ")"
   ]
  },
  {
   "cell_type": "code",
   "execution_count": null,
   "metadata": {
    "scrolled": true
   },
   "outputs": [],
   "source": [
    "display_query_results(dataset, vibe_results.results)"
   ]
  },
  {
   "cell_type": "markdown",
   "metadata": {},
   "source": [
    "#### **Shopping assistant**"
   ]
  },
  {
   "cell_type": "markdown",
   "metadata": {},
   "source": [
    "With shopping assistant, users can create a detailed specification that defines how search results should be grouped. These groups are created based on the criteria set during the assistant's creation. Once the assistant is set up, users can perform searches by sending a `text query` and a `shopping_assistant_id`.\n",
    "\n",
    "We need to create a Shopping assistant configuration first:"
   ]
  },
  {
   "cell_type": "code",
   "execution_count": null,
   "metadata": {},
   "outputs": [],
   "source": [
    "shopping_assistant = vantage.create_shopping_assistant(\n",
    "    name=\"Full outfit assistant\",\n",
    "    groups=[\"shirt\", \"pants\", \"shoes\"],\n",
    "    external_account_id=model_key.external_key_id,\n",
    "    llm_model_name=\"gpt-4o-mini\",\n",
    ")"
   ]
  },
  {
   "cell_type": "code",
   "execution_count": null,
   "metadata": {},
   "outputs": [],
   "source": [
    "shopping_assistant"
   ]
  },
  {
   "cell_type": "markdown",
   "metadata": {},
   "source": [
    "Query using shopping assistant:"
   ]
  },
  {
   "cell_type": "code",
   "execution_count": null,
   "metadata": {},
   "outputs": [],
   "source": [
    "response = vantage.shopping_assistant_search(\n",
    "    collection_id=created_collection.collection_id,\n",
    "    text=\"outfit for business meeting\",\n",
    "    shopping_assistant_id=shopping_assistant.shopping_assistant_id,\n",
    "    max_groups=3,\n",
    "    filter=Filter(boolean_filter=\"gender:\\\"Men\\\"\"),\n",
    ")"
   ]
  },
  {
   "cell_type": "code",
   "execution_count": null,
   "metadata": {
    "scrolled": true
   },
   "outputs": [],
   "source": [
    "response"
   ]
  },
  {
   "cell_type": "code",
   "execution_count": null,
   "metadata": {},
   "outputs": [],
   "source": [
    "display_shopping_assistant_results(dataset, response.groups)"
   ]
  }
 ],
 "metadata": {
  "kernelspec": {
   "display_name": "Python 3 (ipykernel)",
   "language": "python",
   "name": "python3"
  },
  "language_info": {
   "codemirror_mode": {
    "name": "ipython",
    "version": 3
   },
   "file_extension": ".py",
   "mimetype": "text/x-python",
   "name": "python",
   "nbconvert_exporter": "python",
   "pygments_lexer": "ipython3",
   "version": "3.11.4"
  }
 },
 "nbformat": 4,
 "nbformat_minor": 4
}
